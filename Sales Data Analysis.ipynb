{
 "cells": [
  {
   "cell_type": "markdown",
   "id": "abaf43a8",
   "metadata": {},
   "source": [
    "<div style=\"background-color: teal; padding: 10px;\">\n",
    "    <h2>Sales Data Analysis</h2>\n",
    "</div>"
   ]
  },
  {
   "cell_type": "markdown",
   "id": "06e31abc",
   "metadata": {},
   "source": [
    "The objectives of this analysis is to find insightful trends existing in the Sales data. The dataset comprises of the sales from various devices in the year 2019 with a record of the Order ID, Products, Quantity Ordered, the address and also the time of purchase. \n",
    "\n",
    "The analysis is carried out by Data Cleaning, Data Exploration and Data Anlaysis and displaying Insights garnered utilizing common python packages like Pandas, Seaborn and Matplotliib.\n"
   ]
  },
  {
   "cell_type": "code",
   "execution_count": 1,
   "id": "5b69e634",
   "metadata": {},
   "outputs": [],
   "source": [
    "# Import Packages\n",
    "\n",
    "import pandas as pd\n",
    "import seaborn as sns\n",
    "import matplotlib.pyplot as plt\n",
    "from datetime import datetime\n",
    "import warnings\n",
    "from warnings import filterwarnings\n",
    "warnings.filterwarnings('ignore')"
   ]
  },
  {
   "cell_type": "code",
   "execution_count": 2,
   "id": "77172a78",
   "metadata": {},
   "outputs": [],
   "source": [
    "# Read Data Source into DataFrame\n",
    "\n",
    "# Data Source on GitHub\n",
    "url = 'https://raw.githubusercontent.com/Rennyunit/git_practice/main/Sales_data.ftr'\n",
    "\n",
    "# Use Pandas to read data source into a DataFrame\n",
    "df = pd.read_feather(url)"
   ]
  },
  {
   "cell_type": "markdown",
   "id": "f9f21a8c",
   "metadata": {},
   "source": [
    "<div style=\"background-color: teal; padding: 10px;\">\n",
    "    <h3>| Data Inspection</h3>\n",
    "</div>"
   ]
  },
  {
   "cell_type": "code",
   "execution_count": 3,
   "id": "c7a627c4",
   "metadata": {},
   "outputs": [
    {
     "name": "stdout",
     "output_type": "stream",
     "text": [
      "Order ID            object\n",
      "Product             object\n",
      "Quantity Ordered    object\n",
      "Price Each          object\n",
      "Order Date          object\n",
      "Purchase Address    object\n",
      "dtype: object \n",
      "\n",
      "  Order ID                     Product Quantity Ordered Price Each  \\\n",
      "0   176558        USB-C Charging Cable                2      11.95   \n",
      "1     None                        None             None       None   \n",
      "2   176559  Bose SoundSport Headphones                1      99.99   \n",
      "3   176560                Google Phone                1        600   \n",
      "4   176560            Wired Headphones                1      11.99   \n",
      "\n",
      "       Order Date                      Purchase Address  \n",
      "0  04/19/19 08:46          917 1st St, Dallas, TX 75001  \n",
      "1            None                                  None  \n",
      "2  04/07/19 22:30     682 Chestnut St, Boston, MA 02215  \n",
      "3  04/12/19 14:38  669 Spruce St, Los Angeles, CA 90001  \n",
      "4  04/12/19 14:38  669 Spruce St, Los Angeles, CA 90001   \n",
      "\n",
      "Index(['Order ID', 'Product', 'Quantity Ordered', 'Price Each', 'Order Date',\n",
      "       'Purchase Address'],\n",
      "      dtype='object') \n",
      "\n",
      "(186850, 6)\n"
     ]
    }
   ],
   "source": [
    "# Check data types and structure\n",
    "\n",
    "print(df.dtypes,'\\n')\n",
    "print(df.head(),'\\n')\n",
    "print(df.columns,'\\n')\n",
    "print(df.shape)"
   ]
  },
  {
   "cell_type": "markdown",
   "id": "d0c44b6e",
   "metadata": {},
   "source": [
    "<div style=\"background-color: teal; padding: 10px;\">\n",
    "    <h3>| Data Cleaning: Missing and Duplicated Data</h3>\n",
    "</div>"
   ]
  },
  {
   "cell_type": "markdown",
   "id": "0c13a147",
   "metadata": {},
   "source": [
    "#### The dataset has to be queried for missing (null) and duplicated data to avoid erroneous analysis."
   ]
  },
  {
   "cell_type": "code",
   "execution_count": 4,
   "id": "12c68af9",
   "metadata": {
    "scrolled": true
   },
   "outputs": [
    {
     "name": "stdout",
     "output_type": "stream",
     "text": [
      "Order ID            545\n",
      "Product             545\n",
      "Quantity Ordered    545\n",
      "Price Each          545\n",
      "Order Date          545\n",
      "Purchase Address    545\n",
      "dtype: int64\n",
      "\n",
      "The missing data is 0.29% of the total dataframe and missing across all columns. Therefore, removing this from the dataframe would have insignificant impact on the analysis.\n"
     ]
    }
   ],
   "source": [
    "# Check for missing data\n",
    "\n",
    "null_data  = df.isnull().sum()\n",
    "print(null_data)\n",
    "\n",
    "missing_data = null_data[0]/len(df)*100\n",
    "print(f\"\\nThe missing data is {missing_data:.2f}% of the total dataframe and missing across all columns. Therefore, removing this from the dataframe would have insignificant impact on the analysis.\")"
   ]
  },
  {
   "cell_type": "code",
   "execution_count": 5,
   "id": "375c2dbf",
   "metadata": {},
   "outputs": [
    {
     "name": "stdout",
     "output_type": "stream",
     "text": [
      "Order ID            0\n",
      "Product             0\n",
      "Quantity Ordered    0\n",
      "Price Each          0\n",
      "Order Date          0\n",
      "Purchase Address    0\n",
      "dtype: int64\n"
     ]
    }
   ],
   "source": [
    "# Drop all missing data across columns and update dataframe\n",
    "\n",
    "df.dropna(how = 'all',inplace = True)\n",
    "print(df.isnull().sum())"
   ]
  },
  {
   "cell_type": "code",
   "execution_count": 6,
   "id": "0473e24d",
   "metadata": {},
   "outputs": [
    {
     "name": "stdout",
     "output_type": "stream",
     "text": [
      "\n",
      " There are 618 duplicate rows in the dataframe.\n",
      "\n",
      "        Order ID                     Product  Quantity Ordered  Price Each  \\\n",
      "31        176585  Bose SoundSport Headphones                 1       99.99   \n",
      "1149    Order ID                     Product  Quantity Ordered  Price Each   \n",
      "1155    Order ID                     Product  Quantity Ordered  Price Each   \n",
      "1302      177795    Apple Airpods Headphones                 1         150   \n",
      "1684      178158        USB-C Charging Cable                 1       11.95   \n",
      "...          ...                         ...               ...         ...   \n",
      "186563  Order ID                     Product  Quantity Ordered  Price Each   \n",
      "186632  Order ID                     Product  Quantity Ordered  Price Each   \n",
      "186738  Order ID                     Product  Quantity Ordered  Price Each   \n",
      "186782    259296    Apple Airpods Headphones                 1         150   \n",
      "186785    259297    Lightning Charging Cable                 1       14.95   \n",
      "\n",
      "            Order Date                        Purchase Address  \n",
      "31      04/07/19 11:31       823 Highland St, Boston, MA 02215  \n",
      "1149        Order Date                        Purchase Address  \n",
      "1155        Order Date                        Purchase Address  \n",
      "1302    04/27/19 19:45          740 14th St, Seattle, WA 98101  \n",
      "1684    04/28/19 21:13  197 Center St, San Francisco, CA 94016  \n",
      "...                ...                                     ...  \n",
      "186563      Order Date                        Purchase Address  \n",
      "186632      Order Date                        Purchase Address  \n",
      "186738      Order Date                        Purchase Address  \n",
      "186782  09/28/19 16:48            894 6th St, Dallas, TX 75001  \n",
      "186785  09/15/19 18:54           138 Main St, Boston, MA 02215  \n",
      "\n",
      "[618 rows x 6 columns]\n"
     ]
    }
   ],
   "source": [
    "# Check for duplicated data\n",
    "\n",
    "duplicated_data = df.duplicated().sum()\n",
    "print(f\"\\n There are {duplicated_data} duplicate rows in the dataframe.\\n\")\n",
    "print(df[df.duplicated()])"
   ]
  },
  {
   "cell_type": "code",
   "execution_count": 7,
   "id": "9d7bac05",
   "metadata": {},
   "outputs": [
    {
     "name": "stdout",
     "output_type": "stream",
     "text": [
      "Empty DataFrame\n",
      "Columns: [Order ID, Product, Quantity Ordered, Price Each, Order Date, Purchase Address]\n",
      "Index: []\n"
     ]
    }
   ],
   "source": [
    "# Remove all duplicate rows\n",
    "\n",
    "df.drop_duplicates(inplace = True)\n",
    "print(df[df.duplicated()])\n"
   ]
  },
  {
   "cell_type": "markdown",
   "id": "d7a5a8a8",
   "metadata": {},
   "source": [
    "<div style=\"background-color: teal; padding: 10px;\">\n",
    "    <h3>Data Insights</h3>\n",
    "</div>"
   ]
  },
  {
   "cell_type": "markdown",
   "id": "6a34a1ad",
   "metadata": {},
   "source": [
    "<div style=\"background-color: #00AFAF; padding: 10px;\">\n",
    "    <h3>| Month with highest sales</h3>\n",
    "</div>"
   ]
  },
  {
   "cell_type": "code",
   "execution_count": 8,
   "id": "ab888833",
   "metadata": {},
   "outputs": [
    {
     "data": {
      "text/html": [
       "<div>\n",
       "<style scoped>\n",
       "    .dataframe tbody tr th:only-of-type {\n",
       "        vertical-align: middle;\n",
       "    }\n",
       "\n",
       "    .dataframe tbody tr th {\n",
       "        vertical-align: top;\n",
       "    }\n",
       "\n",
       "    .dataframe thead th {\n",
       "        text-align: right;\n",
       "    }\n",
       "</style>\n",
       "<table border=\"1\" class=\"dataframe\">\n",
       "  <thead>\n",
       "    <tr style=\"text-align: right;\">\n",
       "      <th></th>\n",
       "      <th>Order ID</th>\n",
       "      <th>Product</th>\n",
       "      <th>Quantity Ordered</th>\n",
       "      <th>Price Each</th>\n",
       "      <th>Order Date</th>\n",
       "      <th>Purchase Address</th>\n",
       "    </tr>\n",
       "  </thead>\n",
       "  <tbody>\n",
       "    <tr>\n",
       "      <th>519</th>\n",
       "      <td>Order ID</td>\n",
       "      <td>Product</td>\n",
       "      <td>Quantity Ordered</td>\n",
       "      <td>Price Each</td>\n",
       "      <td>Order Date</td>\n",
       "      <td>Purchase Address</td>\n",
       "    </tr>\n",
       "  </tbody>\n",
       "</table>\n",
       "</div>"
      ],
      "text/plain": [
       "     Order ID  Product  Quantity Ordered  Price Each  Order Date  \\\n",
       "519  Order ID  Product  Quantity Ordered  Price Each  Order Date   \n",
       "\n",
       "     Purchase Address  \n",
       "519  Purchase Address  "
      ]
     },
     "execution_count": 8,
     "metadata": {},
     "output_type": "execute_result"
    }
   ],
   "source": [
    "# Check for row with erroneous data \n",
    "\n",
    "df[df['Order Date'] == 'Order Date']"
   ]
  },
  {
   "cell_type": "code",
   "execution_count": null,
   "id": "9f84e547",
   "metadata": {},
   "outputs": [],
   "source": [
    "# Use  row index to remove erroneous data\n",
    "\n",
    "df.drop(519, inplace = True)\n",
    "df.head()"
   ]
  },
  {
   "cell_type": "code",
   "execution_count": null,
   "id": "0cec7d96",
   "metadata": {},
   "outputs": [],
   "source": [
    "#Convert Date to datetime type\n",
    "\n",
    "df['Order Date'] = pd.to_datetime(df['Order Date'], format = '%m/%d/%y %H:%M')"
   ]
  },
  {
   "cell_type": "code",
   "execution_count": null,
   "id": "1fb9fd37",
   "metadata": {},
   "outputs": [],
   "source": [
    "# Extract month from the Order Date column\n",
    "\n",
    "df['Order Month'] = df['Order Date'].dt.month"
   ]
  },
  {
   "cell_type": "code",
   "execution_count": null,
   "id": "eb7c69d6",
   "metadata": {},
   "outputs": [],
   "source": [
    "# Create a Month column to show the month names instead of numbers\n",
    "\n",
    "month_dict = {1: 'January', 2: 'February', 3: 'March', 4: 'April', 5: 'May', 6: 'June', 7: 'July', 8: 'August', 9: 'September', 10: 'October', 11: 'November',\n",
    "12:'December'}\n",
    "df['Month Name'] = df['Order Month'].map(month_dict)"
   ]
  },
  {
   "cell_type": "code",
   "execution_count": null,
   "id": "34aa4abb",
   "metadata": {},
   "outputs": [],
   "source": [
    "# Change data types\n",
    "\n",
    "df['Quantity Ordered'] = df['Quantity Ordered'].astype(int)\n",
    "df['Price Each'] = df['Price Each'].astype(float)"
   ]
  },
  {
   "cell_type": "code",
   "execution_count": null,
   "id": "a351b169",
   "metadata": {},
   "outputs": [],
   "source": [
    "# Calculate the ampunt for each Sale\n",
    "df['Sales'] = df['Quantity Ordered'] * df['Price Each']"
   ]
  },
  {
   "cell_type": "code",
   "execution_count": null,
   "id": "094d60be",
   "metadata": {},
   "outputs": [],
   "source": [
    "# Calculate Sales amount per month\n",
    "\n",
    "monthly_sales = round(df.groupby(['Month Name', 'Order Month'])['Sales' ].sum()).reset_index().sort_values('Order Month').reset_index(drop = True)\n",
    "monthly_sales"
   ]
  },
  {
   "cell_type": "code",
   "execution_count": null,
   "id": "3fbd7b43",
   "metadata": {},
   "outputs": [],
   "source": [
    "# Plot the Sales by Month\n",
    "\n",
    "plt.figure(figsize = (15,10))\n",
    "g = sns.barplot(x = 'Month Name', y= 'Sales', data = monthly_sales, palette = 'mako' )\n",
    "g.set_title(\"Sales by Month\", fontsize = 16)\n",
    "plt.xlabel('Month', fontsize = 14)\n",
    "plt.ylabel('Sales', fontsize = 14)\n",
    "plt.show()"
   ]
  },
  {
   "cell_type": "code",
   "execution_count": null,
   "id": "804cccfb",
   "metadata": {},
   "outputs": [],
   "source": [
    "highest_sales_month = monthly_sales[monthly_sales['Sales'] == monthly_sales['Sales'].max()]\n",
    "print(f\"{highest_sales_month.iloc[0]['Month Name']} has the highest sales with a total value of {highest_sales_month.iloc[0]['Sales']:,.0f}.\")"
   ]
  },
  {
   "cell_type": "markdown",
   "id": "4b1bc041",
   "metadata": {},
   "source": [
    "<div style=\"background-color: #00AFAF; padding: 10px;\">\n",
    "    <h3>| Most popular kind of products sold  </h3>\n",
    "</div>"
   ]
  },
  {
   "cell_type": "code",
   "execution_count": null,
   "id": "7e6aead8",
   "metadata": {},
   "outputs": [],
   "source": [
    "# Categorize the products\n",
    "# Create a dictionary of products as keys and categories as values\n",
    "\n",
    "cat_dict = {'USB-C Charging Cable' :'Charger', 'Bose SoundSport Headphones':'Headphone',\n",
    "       'Google Phone': 'Phone', 'Wired Headphones':'Headphone', 'Macbook Pro Laptop':'Laptop',\n",
    "       'Lightning Charging Cable':'Charger', '27in 4K Gaming Monitor': 'Monitor',\n",
    "       'AA Batteries (4-pack)': 'Battery', 'Apple Airpods Headphones': 'Headphone',\n",
    "       'AAA Batteries (4-pack)': 'Battery', 'iPhone': 'Phone', 'Flatscreen TV': 'Television',\n",
    "       '27in FHD Monitor':'Monitor', '20in Monitor':'Monitor', 'LG Dryer':'Washing Machine', 'ThinkPad Laptop':'Laptop',\n",
    "       'Vareebadd Phone': 'Phone', 'LG Washing Machine': 'Washing Machine', '34in Ultrawide Monitor':'Monitor'}\n"
   ]
  },
  {
   "cell_type": "code",
   "execution_count": null,
   "id": "082ea309",
   "metadata": {},
   "outputs": [],
   "source": [
    "# Create new column by mapping the category dictionary\n",
    "\n",
    "df['Category'] = df['Product'].map(cat_dict)"
   ]
  },
  {
   "cell_type": "code",
   "execution_count": null,
   "id": "d97b7419",
   "metadata": {},
   "outputs": [],
   "source": [
    "# Calculate Quantity of Product sold\n",
    "\n",
    "quantity_product = round(df.groupby(['Category'])['Quantity Ordered' ].sum()).sort_values(ascending = False).reset_index()\n",
    "quantity_product.head()"
   ]
  },
  {
   "cell_type": "code",
   "execution_count": null,
   "id": "53463485",
   "metadata": {},
   "outputs": [],
   "source": [
    "# Plot a chart showing the quantity ordered by category\n",
    "\n",
    "plt.figure(figsize=(8, 8))\n",
    "sns.set_palette('viridis')\n",
    "plt.pie(quantity_product['Quantity Ordered'], labels=quantity_product['Category'], autopct='%1.1f%%', startangle=140)\n",
    "plt.title('Quantity Ordered by Category')\n",
    "title = plt.gca().title\n",
    "title.set_position([0.5, 1.05])\n",
    "plt.axis('equal')  # Equal aspect ratio ensures that pie is drawn as a circle\n",
    "plt.legend(quantity_product['Category'], title=\"Categories\", loc=\"upper right\",bbox_to_anchor=(1.3, 1.2))\n",
    "plt.show()"
   ]
  },
  {
   "cell_type": "markdown",
   "id": "53a2ccf0",
   "metadata": {},
   "source": [
    "\n",
    "\n",
    "<div style=\"background-color: #00AFAF; padding: 10px;\">\n",
    "    <h3>| Order count by City</h3>\n",
    "</div>"
   ]
  },
  {
   "cell_type": "code",
   "execution_count": null,
   "id": "5304c16c",
   "metadata": {},
   "outputs": [],
   "source": [
    "# Extract the City from the Purchase Address column using List comprehension\n",
    "\n",
    "df['City'] = [i.split(',')[1] for i in df['Purchase Address'] ]\n",
    "\n",
    "df_city = df.groupby('City')['Order ID'].nunique().reset_index()\n",
    "\n",
    "df_city.head()"
   ]
  },
  {
   "cell_type": "code",
   "execution_count": null,
   "id": "8cfe19df",
   "metadata": {},
   "outputs": [],
   "source": [
    "# City with most orders\n",
    "\n",
    "most_orders_city = df_city.sort_values('Order ID',ascending  = False).iloc[0]\n",
    "most_orders_city"
   ]
  },
  {
   "cell_type": "code",
   "execution_count": null,
   "id": "fe7fc29f",
   "metadata": {},
   "outputs": [],
   "source": [
    "plt.figure(figsize=(15, 8))\n",
    "sns.barplot(x ='City', y = 'Order ID', data=df_city, palette='viridis')\n",
    "plt.title('Orders by City')\n",
    "plt.xlabel('City')\n",
    "plt.ylabel('Number of Orders')\n",
    "plt.show()"
   ]
  },
  {
   "cell_type": "markdown",
   "id": "ead34db5",
   "metadata": {},
   "source": [
    "<div style=\"background-color: #00AFAF; padding: 10px;\">\n",
    "    <h3>| Relationship between Quantity Ordered and Price Each</h3>\n",
    "</div>"
   ]
  },
  {
   "cell_type": "code",
   "execution_count": null,
   "id": "54ffb5dc",
   "metadata": {},
   "outputs": [],
   "source": [
    "# Calculate the Total Quantity Ordered and Unit Price per product\n",
    "\n",
    "product_count = df.groupby('Product')['Quantity Ordered','Price Each'].agg({'Quantity Ordered': 'sum', 'Price Each':'mean'})\n",
    "product_count = product_count.reset_index()\n",
    "product_count"
   ]
  },
  {
   "cell_type": "code",
   "execution_count": null,
   "id": "273c97d4",
   "metadata": {},
   "outputs": [],
   "source": [
    "# Creating twin axes: Quantity Ordered and Unit Price\n",
    "\n",
    "fig,ax1 = plt.subplots(figsize = (15,10))\n",
    "ax2 = ax1.twinx()\n",
    "\n",
    "# Create two plots on different axes\n",
    "ax1.bar(product_count['Product'], product_count['Quantity Ordered'], color = 'teal', label = 'Quantity Ordered')\n",
    "ax2.plot(product_count['Product'], product_count['Price Each'], 'b--', label = 'Unit Price')\n",
    "\n",
    "# Set the labels for shared x-axis\n",
    "ax1.set_xticklabels(product_count['Product'].values,rotation = 'vertical', fontsize = 12)\n",
    "ax1.set_xlabel('Products', fontsize=14)\n",
    "\n",
    "# Set the label for y-axis\n",
    "ax1.set_ylabel('Total Quantity Ordered',fontsize=14)\n",
    "ax2.set_ylabel('Unit Price', fontsize=14)\n",
    "\n",
    "# Set legend position\n",
    "ax1.legend(loc='upper left',bbox_to_anchor=(0,1), fontsize=12)\n",
    "ax2.legend(loc='upper left',bbox_to_anchor=(0,0.95), fontsize=12)\n",
    "\n",
    "# Set plot title\n",
    "fig.suptitle('Total Quantity Ordered and Unit Price per Product', fontsize=16)\n",
    "\n",
    "# Show plot\n",
    "plt.show()"
   ]
  },
  {
   "cell_type": "code",
   "execution_count": null,
   "id": "d26ee153",
   "metadata": {},
   "outputs": [],
   "source": [
    "# Check for correlation between the price and quantity sold\n",
    "\n",
    "most_sold_product = product_count[product_count['Quantity Ordered'] == product_count['Quantity Ordered'].max()].reset_index().iloc[0]['Product']\n",
    "\n",
    "\n",
    "lowest_priced_product = product_count[product_count['Price Each'] == product_count['Price Each'].min()].reset_index().iloc[0]['Quantity Ordered']\n",
    "\n",
    "print(f\"The unit price of product is inversely related with the Quantity ordered which could be the reason why the {most_sold_product} has the lowest price {lowest_priced_product}.\") "
   ]
  },
  {
   "cell_type": "code",
   "execution_count": null,
   "id": "04e57735",
   "metadata": {},
   "outputs": [],
   "source": [
    "df.groupby('Product')['Quantity Ordered'].sum().sort_values(ascending = False).reset_index().iloc[0]"
   ]
  },
  {
   "cell_type": "markdown",
   "id": "91758a4d",
   "metadata": {},
   "source": [
    "<div style=\"background-color: #00AFAF; padding: 10px;\">\n",
    "    <h3>| Common group purchases</h3>\n",
    "</div>"
   ]
  },
  {
   "cell_type": "code",
   "execution_count": null,
   "id": "811bec00",
   "metadata": {},
   "outputs": [],
   "source": [
    "# Check for items that are commonly purchased together\n",
    "\n",
    "# Select all occurences of duplicated IDs \n",
    "order_groups = df[df['Order ID'].duplicated(keep =False)]\n",
    "\n",
    "# Join all items with common Order ID\n",
    "purchase_groups = order_groups.groupby('Order ID')['Product'].apply(lambda x: ','.join(x)).reset_index().rename(columns ={'Product': 'Groups'})\n",
    "\n",
    "# Merge both dataframes\n",
    "merged_orders =order_groups.merge(purchase_groups, how = 'left', on = 'Order ID')"
   ]
  },
  {
   "cell_type": "code",
   "execution_count": null,
   "id": "7d311b8c",
   "metadata": {},
   "outputs": [],
   "source": [
    "merged_orders"
   ]
  },
  {
   "cell_type": "code",
   "execution_count": null,
   "id": "eb30b84f",
   "metadata": {},
   "outputs": [],
   "source": [
    "# Remove all duplicates\n",
    "\n",
    "purchase_groups_df= merged_orders.drop_duplicates(subset = ['Order ID'])\n",
    "purchase_groups_df.head()"
   ]
  },
  {
   "cell_type": "code",
   "execution_count": null,
   "id": "66ff7fe9",
   "metadata": {},
   "outputs": [],
   "source": [
    "# Subset dataframe for the five (5) most common groups\n",
    "\n",
    "most_common_groups = purchase_groups_df['Groups'].value_counts()[0:5].reset_index().rename(columns = {'index':'Groups', 'Groups':'Quantity Ordered'})\n",
    "most_common_groups"
   ]
  },
  {
   "cell_type": "code",
   "execution_count": null,
   "id": "6afd4b46",
   "metadata": {},
   "outputs": [],
   "source": [
    "# Plot most common groups\n",
    "\n",
    "plt.figure(figsize=(10, 10))\n",
    "sns.set_palette('viridis')\n",
    "\n",
    "plt.pie(most_common_groups['Quantity Ordered'], labels = most_common_groups['Groups'], autopct='%1.1f%%', startangle=140)\n",
    "\n",
    "plt.title('Commonly purchased item groups')\n",
    "plt.legend(title=\"Categories\", loc=\"upper right\",bbox_to_anchor=(1.3, 1.2))\n",
    "\n",
    "plt.show()"
   ]
  },
  {
   "cell_type": "markdown",
   "id": "63cf5b08",
   "metadata": {},
   "source": [
    "<div style=\"background-color: #00AFAF; padding: 10px;\">\n",
    "    <h3>| Summary</h3>\n",
    "</div>"
   ]
  },
  {
   "cell_type": "code",
   "execution_count": null,
   "id": "57b8e091",
   "metadata": {},
   "outputs": [],
   "source": [
    "summary = f\"\"\" The Sales data shows the following insights: \n",
    "\n",
    "- The dataset contains a total of {len(df):,} rows with columns {df.columns.to_list()} after data cleaning.\n",
    "\n",
    "- The month of {highest_sales_month.iloc[0]['Month Name']} has the highest sales in the year and could be attributed to increased purchases during the holiday period. \n",
    "This increase in sales would require a proportionate increae in stock. \n",
    "\n",
    "- The three most ordered items: {quantity_product[:3]['Category'].tolist()} contribute to about {quantity_product[:3]['Quantity Ordered'].sum()/quantity_product['Quantity Ordered'].sum()*100:.0f}% of the total items sold. \n",
    "\n",
    "- The most sales occur in {most_orders_city[0]} with a total of {most_orders_city[1]:,} orders. This could be an insight for locating a new warehouse or an input in general logistics planning.\n",
    "\n",
    "- {most_sold_product} is the most commonly sold item.\n",
    "\n",
    "- The most common groups are {most_common_groups['Groups'].to_list()} which can be used as a basis for recommending products to the customer. An instance will be a recommendation of Lightning charging cable for someone who buys an iPhone and vice versa.\"\"\"\n",
    "\n",
    "print(summary)\n",
    "    "
   ]
  },
  {
   "cell_type": "code",
   "execution_count": null,
   "id": "6346909a",
   "metadata": {},
   "outputs": [],
   "source": [
    "df_city.sort_values('Order ID', ascending  = False).reset_index(drop = True).iloc[0]['City']"
   ]
  }
 ],
 "metadata": {
  "kernelspec": {
   "display_name": "Python 3 (ipykernel)",
   "language": "python",
   "name": "python3"
  },
  "language_info": {
   "codemirror_mode": {
    "name": "ipython",
    "version": 3
   },
   "file_extension": ".py",
   "mimetype": "text/x-python",
   "name": "python",
   "nbconvert_exporter": "python",
   "pygments_lexer": "ipython3",
   "version": "3.10.9"
  }
 },
 "nbformat": 4,
 "nbformat_minor": 5
}
